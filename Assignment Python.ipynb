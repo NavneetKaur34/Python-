{
 "cells": [
  {
   "cell_type": "code",
   "execution_count": 27,
   "id": "1ad06d2a",
   "metadata": {},
   "outputs": [],
   "source": [
    "import tkinter\n",
    "import sqlite3"
   ]
  },
  {
   "cell_type": "code",
   "execution_count": 36,
   "id": "c22ac920",
   "metadata": {},
   "outputs": [
    {
     "name": "stdout",
     "output_type": "stream",
     "text": [
      "Table Created Successfuly\n",
      "Details Inserted\n",
      "          6750821234 Arpit Arora Male XYZ\n",
      "          4376570982 Manish Chettri Male RST\n",
      "          6473421789 Neha  Singh Female ABC\n",
      "          6478923570 Riya  Sharma Female JKL\n"
     ]
    }
   ],
   "source": [
    "def main():\n",
    "    conn = sqlite3.connect('Contacts3.db')\n",
    "    cur = conn.cursor()\n",
    "    sql = '''CREATE TABLE IF NOT EXISTS CONTACTS (c_number INTEGER, f_name TEXT, \n",
    "                                                  l_name TEXT, gender TEXT, \n",
    "                                                  address TEXT, contacts_details TEXT)'''\n",
    "    \n",
    "    conn.execute(sql)\n",
    "    print(\"Table Created Successfuly\")\n",
    "    cur.execute('''INSERT INTO CONTACTS (c_number,  f_name , \n",
    "                                         l_name , gender, \n",
    "                                         address , contacts_details ) VALUES(6750821234, \"Arpit\", \n",
    "                                        \"Arora\", \"Male\", \"XYZ\", \"ABC\")''')\n",
    "    cur.execute('''INSERT INTO CONTACTS (c_number,  f_name , \n",
    "                                         l_name , gender, \n",
    "                                         address , contacts_details ) VALUES(4376570982, \"Manish\", \n",
    "                                         \"Chettri\", \"Male\", \"RST\", \"UVW\")''')\n",
    "    cur.execute('''INSERT INTO CONTACTS (c_number,  f_name , \n",
    "                                         l_name , gender, \n",
    "                                         address , contacts_details ) VALUES(6473421789, \"Neha\", \n",
    "                                         \"Singh\", \"Female\", \"ABC\", \"KLM\")''')\n",
    "    cur.execute('''INSERT INTO CONTACTS (c_number,  f_name , \n",
    "                                         l_name , gender, \n",
    "                                         address , contacts_details ) VALUES(6478923570, \"Riya\",\n",
    "                                         \"Sharma\", \"Female\", \"JKL\", \"HIJ\")''')\n",
    "    print(\"Details Inserted\")\n",
    "    cur.execute('SELECT * FROM CONTACTS')\n",
    "    results = cur.fetchall()\n",
    "    \n",
    "    for row in results:\n",
    "        print(f'{row[0]:20} {row[1]:5} {row[2]:4} {row[3]:3} {row[4]:2}')\n",
    "    conn.commit()\n",
    "    conn.close()\n",
    "    \n",
    "if __name__ == '__main__':\n",
    "    main()"
   ]
  },
  {
   "cell_type": "code",
   "execution_count": 37,
   "id": "297ee9a0",
   "metadata": {},
   "outputs": [
    {
     "data": {
      "text/plain": [
       "<sqlite3.Cursor at 0x28a62ebac00>"
      ]
     },
     "execution_count": 37,
     "metadata": {},
     "output_type": "execute_result"
    }
   ],
   "source": [
    "# Deleting repeated details\n",
    "conn = sqlite3.connect('Contacts3.db')\n",
    "conn.execute(\"DELETE FROM CONTACTS WHERE f_name='Arpit'\")"
   ]
  },
  {
   "cell_type": "code",
   "execution_count": 65,
   "id": "f899056f",
   "metadata": {},
   "outputs": [],
   "source": [
    "# creating GUI\n",
    "class MyGUI:\n",
    "    def __init__(self):\n",
    "        self.main_window = tkinter.Tk()\n",
    "        \n",
    "        self.main_window.title(\"My Contacts List\")\n",
    "       # creating a list of contacts\n",
    "        self.listbox = tkinter.Listbox(self.main_window)\n",
    "        self.listbox.pack(padx=10, pady=10)\n",
    "        self.listbox.insert(0, \"Contacts\")\n",
    "        self.listbox.insert(2, 6750821234,\"Arpit\", \"Arora\", \"Male\", \"XYZ\", \"ABC\") \n",
    "       # Creating label and button                           \n",
    "        self.label = tkinter.Label(self.main_window, text = 'This is my contact list')\n",
    "        \n",
    "        self.button = tkinter.Button(self.main_window, text = 'Click Me')\n",
    "        \n",
    "        self.label.pack()\n",
    "       \n",
    "        self.button.pack()\n",
    "        tkinter.mainloop()\n",
    "        \n",
    "if __name__ == '__main__':\n",
    "    my_gui = MyGUI()"
   ]
  },
  {
   "cell_type": "code",
   "execution_count": null,
   "id": "a93e470f",
   "metadata": {},
   "outputs": [],
   "source": []
  }
 ],
 "metadata": {
  "kernelspec": {
   "display_name": "Python 3 (ipykernel)",
   "language": "python",
   "name": "python3"
  },
  "language_info": {
   "codemirror_mode": {
    "name": "ipython",
    "version": 3
   },
   "file_extension": ".py",
   "mimetype": "text/x-python",
   "name": "python",
   "nbconvert_exporter": "python",
   "pygments_lexer": "ipython3",
   "version": "3.9.7"
  }
 },
 "nbformat": 4,
 "nbformat_minor": 5
}
